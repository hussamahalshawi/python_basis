{
 "cells": [
  {
   "cell_type": "code",
   "execution_count": 1,
   "id": "779cd699",
   "metadata": {},
   "outputs": [
    {
     "name": "stdout",
     "output_type": "stream",
     "text": [
      "hussam\n"
     ]
    }
   ],
   "source": [
    "print(\"hussam\")"
   ]
  },
  {
   "cell_type": "code",
   "execution_count": 2,
   "id": "67493a39",
   "metadata": {},
   "outputs": [
    {
     "name": "stdout",
     "output_type": "stream",
     "text": [
      "[1, 2, 3, 100, 100, 100, 100, 100, 100, 100, 100, 100, 100, 100, 100, 100, 100, 100, 100, 100, 100, 100, 100, 100, 100, 100, 100, 100, 100, 100, 100, 100, 100, 100, 100, 100, 100, 100, 100, 100, 100, 100, 100, 100, 100, 100, 100, 100, 100, 100, 100, 100, 100, 100, 100, 100, 100, 100, 100, 100, 100, 100, 100, 100, 100, 100, 100, 100, 100, 100, 100, 100, 100, 100, 100, 100, 100, 100, 100, 100, 100, 100, 100, 100, 100, 100, 100, 100, 100, 100, 100, 100, 100, 100, 100, 100, 100, 100, 100, 100, 100, 100, 100]\n"
     ]
    }
   ],
   "source": [
    "list_element =[1,2,3]\n",
    "for i in range(100):\n",
    "    list_element.append(100)\n",
    "print(list_element)"
   ]
  },
  {
   "cell_type": "code",
   "execution_count": 3,
   "id": "afca1041",
   "metadata": {},
   "outputs": [
    {
     "name": "stdout",
     "output_type": "stream",
     "text": [
      "[1, 2, 3]\n"
     ]
    }
   ],
   "source": [
    "list =[1,2,3]\n",
    "print(list)"
   ]
  },
  {
   "cell_type": "code",
   "execution_count": 4,
   "id": "c6fc177d",
   "metadata": {},
   "outputs": [
    {
     "name": "stdout",
     "output_type": "stream",
     "text": [
      "[100, 100, 100, 100, 100, 100, 100, 100, 100, 100, 100, 100, 100, 100, 100, 100, 100, 100, 100, 100, 100, 100, 100, 100, 100, 100, 100, 100, 100, 100, 100, 100, 100, 100, 100, 100, 100, 100, 100, 100, 100, 100, 100, 100, 100, 100, 100, 100, 100, 100, 100, 100, 100, 100, 100, 100, 100, 100, 100, 100, 100, 100, 100, 100, 100, 100, 100, 100, 100, 100, 100, 100, 100, 100, 100, 100, 100, 100, 100, 100, 100, 100, 100, 100, 100, 100, 100, 100, 100, 100, 100, 100, 100, 100, 100, 100, 100, 100, 100, 100, 1, 2, 3]\n"
     ]
    }
   ],
   "source": [
    "list_element =[1,2,3]\n",
    "for i in range(100):\n",
    "    list_element.insert(0,100)\n",
    "print(list_element)"
   ]
  },
  {
   "cell_type": "markdown",
   "id": "718c83dd",
   "metadata": {},
   "source": [
    "# python"
   ]
  },
  {
   "cell_type": "markdown",
   "id": "9343e7f8",
   "metadata": {},
   "source": [
    "# python"
   ]
  },
  {
   "cell_type": "markdown",
   "id": "6aa89a1c",
   "metadata": {},
   "source": [
    "# *python*"
   ]
  },
  {
   "cell_type": "markdown",
   "id": "f79ce043",
   "metadata": {},
   "source": [
    "***"
   ]
  },
  {
   "cell_type": "markdown",
   "id": "1b7f3786",
   "metadata": {},
   "source": [
    "# **python**"
   ]
  },
  {
   "cell_type": "markdown",
   "id": "46a53730",
   "metadata": {},
   "source": [
    "***"
   ]
  },
  {
   "cell_type": "markdown",
   "id": "1ce46a06",
   "metadata": {},
   "source": [
    "# ***python***"
   ]
  },
  {
   "cell_type": "markdown",
   "id": "c839e0d0",
   "metadata": {},
   "source": [
    "<p> oop </p>"
   ]
  },
  {
   "cell_type": "markdown",
   "id": "1a8aa4dd",
   "metadata": {},
   "source": [
    "***"
   ]
  },
  {
   "cell_type": "markdown",
   "id": "5af4fe39",
   "metadata": {},
   "source": [
    "<p> oop "
   ]
  },
  {
   "cell_type": "markdown",
   "id": "c6df4bb6",
   "metadata": {},
   "source": [
    "oop"
   ]
  },
  {
   "cell_type": "markdown",
   "id": "b8260c31",
   "metadata": {},
   "source": [
    "| name | age | laste name|\n",
    "|:------|:-----|:---------|\n",
    "| hus: | 20 |sam|\n",
    "| sam: | 22 |hus|"
   ]
  },
  {
   "cell_type": "markdown",
   "id": "0db4e405",
   "metadata": {},
   "source": [
    "# | name | age "
   ]
  },
  {
   "cell_type": "markdown",
   "id": "1d24651e",
   "metadata": {},
   "source": [
    "***"
   ]
  },
  {
   "cell_type": "markdown",
   "id": "14700a07",
   "metadata": {},
   "source": [
    "| hus | 20 |"
   ]
  },
  {
   "cell_type": "markdown",
   "id": "cfa16542",
   "metadata": {},
   "source": [
    "| sam | 22 |"
   ]
  },
  {
   "cell_type": "markdown",
   "id": "96ad1c9e",
   "metadata": {},
   "source": [
    "- hu\n",
    "- ss\n",
    "- am"
   ]
  },
  {
   "cell_type": "markdown",
   "id": "823c4848",
   "metadata": {},
   "source": [
    "hussam\n",
    "======"
   ]
  },
  {
   "cell_type": "markdown",
   "id": "1f5dbc7b",
   "metadata": {},
   "source": [
    "hussam\n",
    "------------"
   ]
  },
  {
   "cell_type": "markdown",
   "id": "71bff3be",
   "metadata": {},
   "source": [
    "> hussam"
   ]
  },
  {
   "cell_type": "markdown",
   "id": "db824d97",
   "metadata": {},
   "source": [
    "> hussam"
   ]
  },
  {
   "cell_type": "markdown",
   "id": "27d93ff7",
   "metadata": {},
   "source": [
    "> dfgdfgdfgdrrtuhfghfghdfdhfhdhgd\n",
    "> fgdhdfhddfghdfhdghdghfghdddfhgfghdhcvhfg\n",
    ">> dsgdfgwege54yrtrj"
   ]
  },
  {
   "cell_type": "markdown",
   "id": "dbdd9bcd",
   "metadata": {},
   "source": [
    "huhu\n",
    "- [x] gh\n",
    "- [ ] gf"
   ]
  },
  {
   "cell_type": "code",
   "execution_count": 5,
   "id": "17eebd02",
   "metadata": {},
   "outputs": [],
   "source": [
    "def say_hello(name):\n",
    "    return f\"Hello {name}\"\n",
    "def greet(name):\n",
    "    return f\"Hi {name}, you are in our python corurse \"\n",
    "def greet_student(greeter_func):\n",
    "    return greeter_func(\"student\")"
   ]
  },
  {
   "cell_type": "code",
   "execution_count": 6,
   "id": "3fcff19c",
   "metadata": {},
   "outputs": [
    {
     "data": {
      "text/plain": [
       "'Hello student'"
      ]
     },
     "execution_count": 6,
     "metadata": {},
     "output_type": "execute_result"
    }
   ],
   "source": [
    "greet_student(say_hello)"
   ]
  },
  {
   "cell_type": "code",
   "execution_count": 7,
   "id": "ce0f04f5",
   "metadata": {},
   "outputs": [
    {
     "data": {
      "text/plain": [
       "'Hi student, you are in our python corurse '"
      ]
     },
     "execution_count": 7,
     "metadata": {},
     "output_type": "execute_result"
    }
   ],
   "source": [
    "greet_student(greet)"
   ]
  },
  {
   "cell_type": "code",
   "execution_count": 8,
   "id": "1a37acdf",
   "metadata": {},
   "outputs": [],
   "source": [
    "def sayy_hello(name):\n",
    "    print(f\"Hello {name}\")\n",
    "    def greett(name):\n",
    "        return f\"Hi {name}, you are in our python corurse \"\n",
    "    def greet_student(greeter_func):\n",
    "        return greeter_func(\"student\")\n",
    "    a=greet_student(greett)\n",
    "    print(a)"
   ]
  },
  {
   "cell_type": "code",
   "execution_count": 9,
   "id": "ec5c9bf3",
   "metadata": {},
   "outputs": [
    {
     "name": "stdout",
     "output_type": "stream",
     "text": [
      "Hello hussam\n",
      "Hi student, you are in our python corurse \n"
     ]
    }
   ],
   "source": [
    "sayy_hello(\"hussam\")"
   ]
  },
  {
   "cell_type": "code",
   "execution_count": 10,
   "id": "7ff9c503",
   "metadata": {},
   "outputs": [],
   "source": [
    "def sayy(num):\n",
    "    def greett():\n",
    "        return f\"Hi , you are in our python corurse \"\n",
    "    def greet_student():\n",
    "        return \"student\"\n",
    "    if num == 1:\n",
    "        return greett()\n",
    "    else:\n",
    "        return greet_student()"
   ]
  },
  {
   "cell_type": "code",
   "execution_count": 11,
   "id": "3f7d3685",
   "metadata": {},
   "outputs": [
    {
     "data": {
      "text/plain": [
       "'Hi , you are in our python corurse '"
      ]
     },
     "execution_count": 11,
     "metadata": {},
     "output_type": "execute_result"
    }
   ],
   "source": [
    "sayy(1)"
   ]
  },
  {
   "cell_type": "code",
   "execution_count": 12,
   "id": "a4343db2",
   "metadata": {},
   "outputs": [],
   "source": [
    "def my_decorator(func):\n",
    "    def wrapper():\n",
    "        print(\"Something is happening before the function is called.\")\n",
    "        func()\n",
    "        print(\"Something is happening after the function is called.\")\n",
    "    return wrapper\n",
    "\n",
    "def say_whee():\n",
    "    print(\"Whee!\")\n",
    "\n",
    "say_whee = my_decorator(say_whee)"
   ]
  },
  {
   "cell_type": "code",
   "execution_count": 13,
   "id": "f1763e57",
   "metadata": {},
   "outputs": [
    {
     "data": {
      "text/plain": [
       "<function __main__.my_decorator.<locals>.wrapper()>"
      ]
     },
     "execution_count": 13,
     "metadata": {},
     "output_type": "execute_result"
    }
   ],
   "source": [
    "say_whee"
   ]
  },
  {
   "cell_type": "code",
   "execution_count": 14,
   "id": "07d37df9",
   "metadata": {},
   "outputs": [
    {
     "name": "stdout",
     "output_type": "stream",
     "text": [
      "Something is happening before the function is called.\n",
      "Whee!\n",
      "Something is happening after the function is called.\n"
     ]
    }
   ],
   "source": [
    "say_whee()"
   ]
  },
  {
   "cell_type": "code",
   "execution_count": 15,
   "id": "bc9373db",
   "metadata": {},
   "outputs": [],
   "source": [
    "import functools\n",
    "import time\n",
    "\n",
    "def timer(func):\n",
    "    \"\"\"Print the runtime of the decorated function\"\"\"\n",
    "    @functools.wraps(func)\n",
    "    def wrapper_timer(*args, **kwargs):\n",
    "        start_time = time.perf_counter()    # 1\n",
    "        value = func(*args, **kwargs)\n",
    "        end_time = time.perf_counter()      # 2\n",
    "        run_time = end_time - start_time    # 3\n",
    "        print(f\"Finished {func.__name__!r} in {run_time:.4f} secs\")\n",
    "#         return value\n",
    "    return wrapper_timer\n",
    "\n",
    "@timer\n",
    "def waste_some_time(num_times):\n",
    "    for _ in range(num_times):\n",
    "        sum([i**2 for i in range(10000)])"
   ]
  },
  {
   "cell_type": "code",
   "execution_count": 16,
   "id": "79165739",
   "metadata": {},
   "outputs": [
    {
     "name": "stdout",
     "output_type": "stream",
     "text": [
      "Finished 'waste_some_time' in 0.0032 secs\n"
     ]
    }
   ],
   "source": [
    "waste_some_time(1)"
   ]
  },
  {
   "cell_type": "code",
   "execution_count": 17,
   "id": "a09c9ccb",
   "metadata": {},
   "outputs": [
    {
     "name": "stdout",
     "output_type": "stream",
     "text": [
      "Finished 'waste_some_time' in 0.3165 secs\n"
     ]
    }
   ],
   "source": [
    "waste_some_time(100)"
   ]
  },
  {
   "cell_type": "code",
   "execution_count": 18,
   "id": "ec1eca18",
   "metadata": {},
   "outputs": [
    {
     "name": "stdout",
     "output_type": "stream",
     "text": [
      "Finished 'waste_some_time' in 3.0704 secs\n"
     ]
    }
   ],
   "source": [
    "waste_some_time(1000)"
   ]
  },
  {
   "cell_type": "code",
   "execution_count": 19,
   "id": "80ea625f",
   "metadata": {},
   "outputs": [
    {
     "name": "stdout",
     "output_type": "stream",
     "text": [
      "Finished 'waste_some_time' in 28.6493 secs\n"
     ]
    }
   ],
   "source": [
    "waste_some_time(10000)"
   ]
  },
  {
   "cell_type": "code",
   "execution_count": 20,
   "id": "86aeb43e",
   "metadata": {},
   "outputs": [],
   "source": [
    "import functools\n",
    "\n",
    "def debug(func):\n",
    "    \"\"\"Print the function signature and return value\"\"\"\n",
    "    @functools.wraps(func)\n",
    "    def wrapper_debug(*args, **kwargs):\n",
    "        args_repr = [repr(a) for a in args]                      # 1\n",
    "        kwargs_repr = [f\"{k}={v!r}\" for k, v in kwargs.items()]  # 2\n",
    "        signature = \", \".join(args_repr + kwargs_repr)           # 3\n",
    "        print(f\"Calling {func.__name__}({signature})\")\n",
    "        value = func(*args, **kwargs)\n",
    "        print(f\"{func.__name__!r} returned {value!r}\")           # 4\n",
    "        return value\n",
    "    return wrapper_debug\n",
    "@debug\n",
    "def make_greeting(name, age=None):\n",
    "    if age is None:\n",
    "        return f\"Howdy {name}!\"\n",
    "    else:\n",
    "        return f\"Whoa {name}! {age} already, you are growing up!\""
   ]
  },
  {
   "cell_type": "code",
   "execution_count": 21,
   "id": "e841e028",
   "metadata": {},
   "outputs": [
    {
     "name": "stdout",
     "output_type": "stream",
     "text": [
      "Calling make_greeting('Benjamin')\n",
      "'make_greeting' returned 'Howdy Benjamin!'\n"
     ]
    },
    {
     "data": {
      "text/plain": [
       "'Howdy Benjamin!'"
      ]
     },
     "execution_count": 21,
     "metadata": {},
     "output_type": "execute_result"
    }
   ],
   "source": [
    "make_greeting(\"Benjamin\")"
   ]
  },
  {
   "cell_type": "code",
   "execution_count": 22,
   "id": "ed9ea333",
   "metadata": {},
   "outputs": [
    {
     "name": "stdout",
     "output_type": "stream",
     "text": [
      "Calling make_greeting('Richard', age=112)\n",
      "'make_greeting' returned 'Whoa Richard! 112 already, you are growing up!'\n"
     ]
    },
    {
     "data": {
      "text/plain": [
       "'Whoa Richard! 112 already, you are growing up!'"
      ]
     },
     "execution_count": 22,
     "metadata": {},
     "output_type": "execute_result"
    }
   ],
   "source": [
    "make_greeting(\"Richard\", age=112)"
   ]
  },
  {
   "cell_type": "code",
   "execution_count": 23,
   "id": "5fa6b6b7",
   "metadata": {},
   "outputs": [
    {
     "name": "stdout",
     "output_type": "stream",
     "text": [
      "Calling make_greeting(name='Dorrisile', age=116)\n",
      "'make_greeting' returned 'Whoa Dorrisile! 116 already, you are growing up!'\n"
     ]
    },
    {
     "data": {
      "text/plain": [
       "'Whoa Dorrisile! 116 already, you are growing up!'"
      ]
     },
     "execution_count": 23,
     "metadata": {},
     "output_type": "execute_result"
    }
   ],
   "source": [
    "make_greeting(name=\"Dorrisile\", age=116)"
   ]
  },
  {
   "cell_type": "code",
   "execution_count": 3,
   "id": "49efaed9",
   "metadata": {},
   "outputs": [
    {
     "name": "stdout",
     "output_type": "stream",
     "text": [
      "h!\n",
      "W!\n",
      "!\n"
     ]
    }
   ],
   "source": [
    "import functools\n",
    "\n",
    "def count_calls(func):\n",
    "    @functools.wraps(func)\n",
    "    def wrapper_count_calls(*args, **kwargs):\n",
    "        wrapper_count_calls.num_calls += 1\n",
    "        print(f\"Call {wrapper_count_calls.num_calls} of {func.__name__!r}\")\n",
    "        return func(*args, **kwargs)\n",
    "    print(\"W!\")\n",
    "    wrapper_count_calls.num_calls = 0\n",
    "    print(\"!\")\n",
    "    return wrapper_count_calls\n",
    "print(\"h!\")\n",
    "@count_calls\n",
    "def say_whee():\n",
    "    print(\"Whee!\")"
   ]
  },
  {
   "cell_type": "code",
   "execution_count": 3,
   "id": "ab5678cc",
   "metadata": {},
   "outputs": [
    {
     "data": {
      "text/plain": [
       "0"
      ]
     },
     "execution_count": 3,
     "metadata": {},
     "output_type": "execute_result"
    }
   ],
   "source": [
    "say_whee.num_calls"
   ]
  },
  {
   "cell_type": "code",
   "execution_count": 4,
   "id": "c943f9a6",
   "metadata": {},
   "outputs": [
    {
     "name": "stdout",
     "output_type": "stream",
     "text": [
      "Call 1 of 'say_whee'\n",
      "Whee!\n"
     ]
    }
   ],
   "source": [
    "say_whee()"
   ]
  },
  {
   "cell_type": "code",
   "execution_count": 5,
   "id": "6e9f80d1",
   "metadata": {},
   "outputs": [
    {
     "name": "stdout",
     "output_type": "stream",
     "text": [
      "Call 2 of 'say_whee'\n",
      "Whee!\n"
     ]
    }
   ],
   "source": [
    "say_whee()"
   ]
  },
  {
   "cell_type": "code",
   "execution_count": 6,
   "id": "91001ad1",
   "metadata": {},
   "outputs": [
    {
     "name": "stdout",
     "output_type": "stream",
     "text": [
      "Call 3 of 'say_whee'\n",
      "Whee!\n"
     ]
    }
   ],
   "source": [
    "say_whee()"
   ]
  },
  {
   "cell_type": "code",
   "execution_count": 7,
   "id": "2352358c",
   "metadata": {},
   "outputs": [
    {
     "name": "stdout",
     "output_type": "stream",
     "text": [
      "Call 4 of 'say_whee'\n",
      "Whee!\n"
     ]
    }
   ],
   "source": [
    "say_whee()"
   ]
  },
  {
   "cell_type": "code",
   "execution_count": 8,
   "id": "f9958ebe",
   "metadata": {},
   "outputs": [
    {
     "data": {
      "text/plain": [
       "4"
      ]
     },
     "execution_count": 8,
     "metadata": {},
     "output_type": "execute_result"
    }
   ],
   "source": [
    "say_whee.num_calls"
   ]
  },
  {
   "cell_type": "code",
   "execution_count": 5,
   "id": "7a51d1db",
   "metadata": {},
   "outputs": [
    {
     "name": "stdout",
     "output_type": "stream",
     "text": [
      "W!\n",
      "!\n"
     ]
    }
   ],
   "source": [
    "import functools\n",
    "# from decorators import count_calls\n",
    "\n",
    "def cache(func):\n",
    "    \"\"\"Keep a cache of previous function calls\"\"\"\n",
    "    @functools.wraps(func)\n",
    "    def wrapper_cache(*args, **kwargs):\n",
    "#         print(\"1\",args)\n",
    "#         print(\"2\",kwargs)\n",
    "#         print(\"3\",kwargs.items())\n",
    "#         print(\"4\",tuple(kwargs.items()))\n",
    "        cache_key = args + tuple(kwargs.items())\n",
    "#         print(\"5\",cache_key)\n",
    "        if cache_key not in wrapper_cache.cache:\n",
    "            wrapper_cache.cache[cache_key] = func(*args, **kwargs)\n",
    "#             print(\"6\",wrapper_cache.cache[cache_key])\n",
    "        return wrapper_cache.cache[cache_key]\n",
    "    wrapper_cache.cache = dict()\n",
    "    return wrapper_cache\n",
    "\n",
    "@cache\n",
    "@count_calls\n",
    "def fibonacci(num):\n",
    "    if num < 2:\n",
    "        return num\n",
    "    return fibonacci(num - 1) + fibonacci(num - 2)"
   ]
  },
  {
   "cell_type": "code",
   "execution_count": 10,
   "id": "021904a6",
   "metadata": {},
   "outputs": [
    {
     "name": "stdout",
     "output_type": "stream",
     "text": [
      "Call 1 of 'fibonacci'\n",
      "Call 2 of 'fibonacci'\n",
      "Call 3 of 'fibonacci'\n",
      "Call 4 of 'fibonacci'\n",
      "Call 5 of 'fibonacci'\n",
      "Call 6 of 'fibonacci'\n",
      "Call 7 of 'fibonacci'\n",
      "Call 8 of 'fibonacci'\n",
      "Call 9 of 'fibonacci'\n",
      "Call 10 of 'fibonacci'\n",
      "Call 11 of 'fibonacci'\n"
     ]
    },
    {
     "data": {
      "text/plain": [
       "55"
      ]
     },
     "execution_count": 10,
     "metadata": {},
     "output_type": "execute_result"
    }
   ],
   "source": [
    "fibonacci(10)"
   ]
  },
  {
   "cell_type": "code",
   "execution_count": 11,
   "id": "f4d1b300",
   "metadata": {},
   "outputs": [
    {
     "data": {
      "text/plain": [
       "21"
      ]
     },
     "execution_count": 11,
     "metadata": {},
     "output_type": "execute_result"
    }
   ],
   "source": [
    "fibonacci(8)"
   ]
  },
  {
   "cell_type": "code",
   "execution_count": 12,
   "id": "72f30011",
   "metadata": {},
   "outputs": [
    {
     "data": {
      "text/plain": [
       "5"
      ]
     },
     "execution_count": 12,
     "metadata": {},
     "output_type": "execute_result"
    }
   ],
   "source": [
    "fibonacci(5)"
   ]
  },
  {
   "cell_type": "code",
   "execution_count": 6,
   "id": "6dbfa1fc",
   "metadata": {},
   "outputs": [],
   "source": [
    "def get_kort(k):\n",
    "    list_to_sort =[5,7,9,4,3,2,8]\n",
    "    if k > len(list_to_sort):\n",
    "        print(\"k is larger then list length\")\n",
    "    list_to_sort.sort(reverse=True)\n",
    "    return list_to_sort[:k]"
   ]
  },
  {
   "cell_type": "code",
   "execution_count": 14,
   "id": "120778d6",
   "metadata": {},
   "outputs": [
    {
     "name": "stdout",
     "output_type": "stream",
     "text": [
      "k is larger then list length\n"
     ]
    },
    {
     "data": {
      "text/plain": [
       "[9, 8, 7, 5, 4, 3, 2]"
      ]
     },
     "execution_count": 14,
     "metadata": {},
     "output_type": "execute_result"
    }
   ],
   "source": [
    "get_kort(8)"
   ]
  },
  {
   "cell_type": "code",
   "execution_count": 15,
   "id": "c70302ea",
   "metadata": {},
   "outputs": [
    {
     "name": "stdout",
     "output_type": "stream",
     "text": [
      "W!\n",
      "!\n"
     ]
    }
   ],
   "source": [
    "def cache2(func):\n",
    "    \"\"\"Keep a cache of previous function calls\"\"\"\n",
    "    @functools.wraps(func)\n",
    "    def wrapper_cache(*args, **kwargs):\n",
    "        \n",
    "        cache_key = args + tuple(kwargs.items())\n",
    "        print(\"5\",cache_key)\n",
    "        if cache_key not in wrapper_cache.cache:\n",
    "            wrapper_cache.cache[cache_key] = func(*args, **kwargs)\n",
    "            print(\"6\",wrapper_cache.cache[cache_key])\n",
    "        return wrapper_cache.cache[cache_key]\n",
    "    wrapper_cache.cache = dict()\n",
    "    return wrapper_cache\n",
    "@cache2\n",
    "@count_calls\n",
    "def asas(num):\n",
    "    print(num)\n",
    "    return num * asas(num-1) if num else 1"
   ]
  },
  {
   "cell_type": "code",
   "execution_count": 16,
   "id": "c936b7bf",
   "metadata": {},
   "outputs": [
    {
     "name": "stdout",
     "output_type": "stream",
     "text": [
      "5 (5,)\n",
      "Call 1 of 'asas'\n",
      "5\n",
      "5 (4,)\n",
      "Call 2 of 'asas'\n",
      "4\n",
      "5 (3,)\n",
      "Call 3 of 'asas'\n",
      "3\n",
      "5 (2,)\n",
      "Call 4 of 'asas'\n",
      "2\n",
      "5 (1,)\n",
      "Call 5 of 'asas'\n",
      "1\n",
      "5 (0,)\n",
      "Call 6 of 'asas'\n",
      "0\n",
      "6 1\n",
      "6 1\n",
      "6 2\n",
      "6 6\n",
      "6 24\n",
      "6 120\n"
     ]
    },
    {
     "data": {
      "text/plain": [
       "120"
      ]
     },
     "execution_count": 16,
     "metadata": {},
     "output_type": "execute_result"
    }
   ],
   "source": [
    "asas(5)"
   ]
  },
  {
   "cell_type": "code",
   "execution_count": 17,
   "id": "5482bac9",
   "metadata": {},
   "outputs": [
    {
     "name": "stdout",
     "output_type": "stream",
     "text": [
      "5 (4,)\n"
     ]
    },
    {
     "data": {
      "text/plain": [
       "24"
      ]
     },
     "execution_count": 17,
     "metadata": {},
     "output_type": "execute_result"
    }
   ],
   "source": [
    "asas(4)"
   ]
  },
  {
   "cell_type": "code",
   "execution_count": 18,
   "id": "e5a42189",
   "metadata": {},
   "outputs": [
    {
     "name": "stdout",
     "output_type": "stream",
     "text": [
      "5 (7,)\n",
      "Call 7 of 'asas'\n",
      "7\n",
      "5 (6,)\n",
      "Call 8 of 'asas'\n",
      "6\n",
      "5 (5,)\n",
      "6 720\n",
      "6 5040\n"
     ]
    },
    {
     "data": {
      "text/plain": [
       "5040"
      ]
     },
     "execution_count": 18,
     "metadata": {},
     "output_type": "execute_result"
    }
   ],
   "source": [
    "asas(7)"
   ]
  },
  {
   "cell_type": "code",
   "execution_count": null,
   "id": "21eff6df",
   "metadata": {},
   "outputs": [],
   "source": [
    "class Dog:\n",
    "    species = \"Canis familiaris\"\n",
    "\n",
    "    def __init__(self, name, age):\n",
    "        self.name = name\n",
    "        self.age = age\n",
    "\n",
    "    # Instance method\n",
    "    def description(self):\n",
    "        return f\"{self.name} is {self.age} years old\"\n",
    "\n",
    "    # Another instance method\n",
    "    def speak(self, sound):\n",
    "        return f\"{self.name} says {sound}\"\n",
    "    def __str__(self):\n",
    "        return f\"{self.name} is {self.age} years old\""
   ]
  },
  {
   "cell_type": "code",
   "execution_count": null,
   "id": "6c161789",
   "metadata": {},
   "outputs": [],
   "source": [
    "miles = Dog(\"Miles\", 4)"
   ]
  },
  {
   "cell_type": "code",
   "execution_count": null,
   "id": "a5f5b199",
   "metadata": {},
   "outputs": [],
   "source": [
    "miles.description()"
   ]
  },
  {
   "cell_type": "code",
   "execution_count": null,
   "id": "9323c4e0",
   "metadata": {},
   "outputs": [],
   "source": [
    "miles.speak(\"Woof Woof\")"
   ]
  },
  {
   "cell_type": "code",
   "execution_count": null,
   "id": "d1954ffe",
   "metadata": {},
   "outputs": [],
   "source": [
    "miles.speak(\"Bow Wow\")"
   ]
  },
  {
   "cell_type": "code",
   "execution_count": null,
   "id": "ba462cad",
   "metadata": {},
   "outputs": [],
   "source": [
    "print(miles)"
   ]
  },
  {
   "cell_type": "code",
   "execution_count": 7,
   "id": "a4a05ae4",
   "metadata": {},
   "outputs": [
    {
     "name": "stdout",
     "output_type": "stream",
     "text": [
      "[16, 400, 100, 169]\n"
     ]
    }
   ],
   "source": [
    "def meta_decorator(power):\n",
    "    def decorator_list(fnc):\n",
    "        def inner(list_of_tuples):\n",
    "            return [(fnc(val[0], val[1])) ** power for val in list_of_tuples]\n",
    "        return inner\n",
    "    return decorator_list\n",
    "\n",
    "\n",
    "@meta_decorator(2)\n",
    "def add_together(a, b):\n",
    "    return a + b\n",
    "\n",
    "\n",
    "print(add_together([(1, 3), (3, 17), (5, 5), (6, 7)]))"
   ]
  },
  {
   "cell_type": "code",
   "execution_count": null,
   "id": "54918440",
   "metadata": {},
   "outputs": [],
   "source": []
  },
  {
   "cell_type": "code",
   "execution_count": null,
   "id": "e0bd359a",
   "metadata": {},
   "outputs": [],
   "source": []
  },
  {
   "cell_type": "code",
   "execution_count": null,
   "id": "ba68055a",
   "metadata": {},
   "outputs": [],
   "source": []
  },
  {
   "cell_type": "code",
   "execution_count": null,
   "id": "96764800",
   "metadata": {},
   "outputs": [],
   "source": []
  },
  {
   "cell_type": "code",
   "execution_count": null,
   "id": "ad7673be",
   "metadata": {},
   "outputs": [],
   "source": []
  },
  {
   "cell_type": "code",
   "execution_count": null,
   "id": "5a44a431",
   "metadata": {},
   "outputs": [],
   "source": []
  },
  {
   "cell_type": "code",
   "execution_count": null,
   "id": "81a23fdf",
   "metadata": {},
   "outputs": [],
   "source": []
  },
  {
   "cell_type": "code",
   "execution_count": null,
   "id": "910b78f8",
   "metadata": {},
   "outputs": [],
   "source": []
  },
  {
   "cell_type": "code",
   "execution_count": null,
   "id": "7f18e9ed",
   "metadata": {},
   "outputs": [],
   "source": []
  },
  {
   "cell_type": "code",
   "execution_count": null,
   "id": "974e676b",
   "metadata": {},
   "outputs": [],
   "source": []
  },
  {
   "cell_type": "code",
   "execution_count": null,
   "id": "e2a84f4e",
   "metadata": {},
   "outputs": [],
   "source": []
  },
  {
   "cell_type": "code",
   "execution_count": null,
   "id": "c8f8dfc9",
   "metadata": {},
   "outputs": [],
   "source": []
  },
  {
   "cell_type": "code",
   "execution_count": null,
   "id": "af13e08e",
   "metadata": {},
   "outputs": [],
   "source": []
  },
  {
   "cell_type": "code",
   "execution_count": null,
   "id": "dde6c8c5",
   "metadata": {},
   "outputs": [],
   "source": []
  },
  {
   "cell_type": "code",
   "execution_count": null,
   "id": "562b70fa",
   "metadata": {},
   "outputs": [],
   "source": []
  },
  {
   "cell_type": "code",
   "execution_count": null,
   "id": "2d4a55ba",
   "metadata": {},
   "outputs": [],
   "source": []
  },
  {
   "cell_type": "code",
   "execution_count": null,
   "id": "480a97c4",
   "metadata": {},
   "outputs": [],
   "source": []
  },
  {
   "cell_type": "code",
   "execution_count": null,
   "id": "bb30355e",
   "metadata": {},
   "outputs": [],
   "source": []
  },
  {
   "cell_type": "code",
   "execution_count": null,
   "id": "9da7a262",
   "metadata": {},
   "outputs": [],
   "source": []
  },
  {
   "cell_type": "code",
   "execution_count": null,
   "id": "c5fa6a4f",
   "metadata": {},
   "outputs": [],
   "source": []
  },
  {
   "cell_type": "code",
   "execution_count": null,
   "id": "62aaae62",
   "metadata": {},
   "outputs": [],
   "source": []
  },
  {
   "cell_type": "code",
   "execution_count": null,
   "id": "1916d9f2",
   "metadata": {},
   "outputs": [],
   "source": []
  },
  {
   "cell_type": "code",
   "execution_count": null,
   "id": "e03e6b74",
   "metadata": {},
   "outputs": [],
   "source": []
  },
  {
   "cell_type": "code",
   "execution_count": null,
   "id": "06146174",
   "metadata": {},
   "outputs": [],
   "source": []
  },
  {
   "cell_type": "code",
   "execution_count": null,
   "id": "e9870e33",
   "metadata": {},
   "outputs": [],
   "source": []
  },
  {
   "cell_type": "code",
   "execution_count": null,
   "id": "92e165da",
   "metadata": {},
   "outputs": [],
   "source": []
  },
  {
   "cell_type": "code",
   "execution_count": null,
   "id": "8e29522c",
   "metadata": {},
   "outputs": [],
   "source": []
  },
  {
   "cell_type": "code",
   "execution_count": null,
   "id": "5d60b684",
   "metadata": {},
   "outputs": [],
   "source": []
  },
  {
   "cell_type": "code",
   "execution_count": null,
   "id": "3201da5e",
   "metadata": {},
   "outputs": [],
   "source": []
  },
  {
   "cell_type": "code",
   "execution_count": null,
   "id": "41082134",
   "metadata": {},
   "outputs": [],
   "source": []
  },
  {
   "cell_type": "code",
   "execution_count": null,
   "id": "88d6a67f",
   "metadata": {},
   "outputs": [],
   "source": []
  },
  {
   "cell_type": "markdown",
   "id": "3c83b7b9",
   "metadata": {},
   "source": [
    "- echo \"# jupyter\" >> README.md\n",
    "- git init\n",
    "- git add README.md\n",
    "- git commit -m \"first commit\"\n",
    "- git branch -M main\n",
    "- git remote add origin https://github.com/hussamahalshawi/jupyter.git\n",
    "- git push -u origin main\n",
    "**************************************************\n",
    "- git remote add origin https://github.com/hussamahalshawi/jupyter.git\n",
    "- git branch -M main\n",
    "- git push -u origin main"
   ]
  },
  {
   "cell_type": "markdown",
   "id": "47c76887",
   "metadata": {},
   "source": [
    "- echo \"# jupyter\" >> README.md\n",
    "- git init\n",
    "- git add README.md\n",
    "- git commit -m \"first commit\"\n",
    "- git branch -M main\n",
    "- git remote add origin https://github.com/hussamahalshawi/jupyter.git\n",
    "- git push -u origin main\n",
    "**************************************************\n",
    "- git remote add origin https://github.com/hussamahalshawi/jupyter.git\n",
    "- git branch -M main\n",
    "- git push -u origin main"
   ]
  },
  {
   "cell_type": "code",
   "execution_count": null,
   "id": "da676727",
   "metadata": {},
   "outputs": [],
   "source": []
  },
  {
   "cell_type": "code",
   "execution_count": null,
   "id": "46e88c71",
   "metadata": {},
   "outputs": [],
   "source": []
  }
 ],
 "metadata": {
  "kernelspec": {
   "display_name": "Python 3 (ipykernel)",
   "language": "python",
   "name": "python3"
  },
  "language_info": {
   "codemirror_mode": {
    "name": "ipython",
    "version": 3
   },
   "file_extension": ".py",
   "mimetype": "text/x-python",
   "name": "python",
   "nbconvert_exporter": "python",
   "pygments_lexer": "ipython3",
   "version": "3.9.13"
  }
 },
 "nbformat": 4,
 "nbformat_minor": 5
}
